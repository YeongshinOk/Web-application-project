{
 "cells": [
  {
   "cell_type": "code",
   "id": "initial_id",
   "metadata": {
    "collapsed": true,
    "ExecuteTime": {
     "end_time": "2024-04-21T05:24:26.106248Z",
     "start_time": "2024-04-21T05:24:26.100871Z"
    }
   },
   "source": [
    "from gtts import gTTS\n",
    "import os"
   ],
   "outputs": [],
   "execution_count": 15
  },
  {
   "metadata": {
    "ExecuteTime": {
     "end_time": "2024-04-21T05:24:26.121865Z",
     "start_time": "2024-04-21T05:24:26.108403Z"
    }
   },
   "cell_type": "code",
   "source": "txt = '한국어도 되냐'",
   "id": "d9324ae4869466f6",
   "outputs": [],
   "execution_count": 16
  },
  {
   "metadata": {
    "ExecuteTime": {
     "end_time": "2024-04-21T05:24:26.482302Z",
     "start_time": "2024-04-21T05:24:26.126849Z"
    }
   },
   "cell_type": "code",
   "source": [
    "tts = gTTS(text=txt, lang='ko')\n",
    "tts.save(\"korean.mp3\")"
   ],
   "id": "b16b09769d47c19e",
   "outputs": [],
   "execution_count": 17
  },
  {
   "metadata": {
    "ExecuteTime": {
     "end_time": "2024-04-21T05:24:27.117926Z",
     "start_time": "2024-04-21T05:24:26.485352Z"
    }
   },
   "cell_type": "code",
   "source": "os.system(\"korean.mp3\")",
   "id": "cf0d8e48d28dc215",
   "outputs": [
    {
     "data": {
      "text/plain": [
       "0"
      ]
     },
     "execution_count": 18,
     "metadata": {},
     "output_type": "execute_result"
    }
   ],
   "execution_count": 18
  },
  {
   "metadata": {
    "ExecuteTime": {
     "end_time": "2024-04-21T05:24:55.829891Z",
     "start_time": "2024-04-21T05:24:55.812938Z"
    }
   },
   "cell_type": "code",
   "source": "txt = 'Long time no see, bro. How have you been?'",
   "id": "281bbface650144d",
   "outputs": [],
   "execution_count": 22
  },
  {
   "metadata": {
    "ExecuteTime": {
     "end_time": "2024-04-21T05:24:56.648318Z",
     "start_time": "2024-04-21T05:24:56.208044Z"
    }
   },
   "cell_type": "code",
   "source": [
    "tts = gTTS(text=txt, lang='en')\n",
    "tts.save(\"english.mp3\")"
   ],
   "id": "a6d725b390a69008",
   "outputs": [],
   "execution_count": 23
  },
  {
   "metadata": {
    "ExecuteTime": {
     "end_time": "2024-04-21T05:24:59.828540Z",
     "start_time": "2024-04-21T05:24:59.206162Z"
    }
   },
   "cell_type": "code",
   "source": "os.system(\"english.mp3\")",
   "id": "658abf8ac62e0c5e",
   "outputs": [
    {
     "data": {
      "text/plain": [
       "0"
      ]
     },
     "execution_count": 24,
     "metadata": {},
     "output_type": "execute_result"
    }
   ],
   "execution_count": 24
  },
  {
   "metadata": {
    "ExecuteTime": {
     "end_time": "2024-04-21T05:24:28.024894Z",
     "start_time": "2024-04-21T05:24:28.011263Z"
    }
   },
   "cell_type": "code",
   "source": "",
   "id": "b4a4d29ec6a22bf6",
   "outputs": [],
   "execution_count": 21
  }
 ],
 "metadata": {
  "kernelspec": {
   "display_name": "Python 3",
   "language": "python",
   "name": "python3"
  },
  "language_info": {
   "codemirror_mode": {
    "name": "ipython",
    "version": 2
   },
   "file_extension": ".py",
   "mimetype": "text/x-python",
   "name": "python",
   "nbconvert_exporter": "python",
   "pygments_lexer": "ipython2",
   "version": "2.7.6"
  }
 },
 "nbformat": 4,
 "nbformat_minor": 5
}
